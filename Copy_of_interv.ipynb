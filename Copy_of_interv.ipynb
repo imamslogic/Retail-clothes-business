{
  "nbformat": 4,
  "nbformat_minor": 0,
  "metadata": {
    "colab": {
      "name": "Copy of interv.ipynb",
      "provenance": [],
      "authorship_tag": "ABX9TyPFriWyehDiRfp+/mCwdtKL",
      "include_colab_link": true
    },
    "kernelspec": {
      "name": "python3",
      "display_name": "Python 3"
    },
    "language_info": {
      "name": "python"
    }
  },
  "cells": [
    {
      "cell_type": "markdown",
      "metadata": {
        "id": "view-in-github",
        "colab_type": "text"
      },
      "source": [
        "<a href=\"https://colab.research.google.com/github/imamslogic/Retail-clothes-business/blob/main/Copy_of_interv.ipynb\" target=\"_parent\"><img src=\"https://colab.research.google.com/assets/colab-badge.svg\" alt=\"Open In Colab\"/></a>"
      ]
    },
    {
      "cell_type": "code",
      "metadata": {
        "id": "vnAuT7bG0J5K"
      },
      "source": [
        "# Import the neccessary modules\n",
        "import pandas as pd\n",
        "import numpy as np\n",
        "import seaborn as sb"
      ],
      "execution_count": 42,
      "outputs": []
    },
    {
      "cell_type": "code",
      "metadata": {
        "id": "c1MLEUnH9wTp"
      },
      "source": [
        "# Read the dataset into a dataframe\n",
        "df1 = pd.read_csv('historic.csv')\n",
        "# Read the dataset into a dataframe\n",
        "df2 = pd.read_csv('prediction_input.csv')"
      ],
      "execution_count": 43,
      "outputs": []
    },
    {
      "cell_type": "code",
      "metadata": {
        "colab": {
          "base_uri": "https://localhost:8080/",
          "height": 594
        },
        "id": "yZgk93yH-zbV",
        "outputId": "8f222e15-6738-4a10-8a19-3c23e693d6bb"
      },
      "source": [
        "df1.info()\n",
        "sb.heatmap(df1.isnull())"
      ],
      "execution_count": 44,
      "outputs": [
        {
          "output_type": "stream",
          "text": [
            "<class 'pandas.core.frame.DataFrame'>\n",
            "RangeIndex: 8000 entries, 0 to 7999\n",
            "Data columns (total 6 columns):\n",
            " #   Column             Non-Null Count  Dtype  \n",
            "---  ------             --------------  -----  \n",
            " 0   item_no            8000 non-null   int64  \n",
            " 1   category           8000 non-null   object \n",
            " 2   main_promotion     8000 non-null   object \n",
            " 3   color              8000 non-null   object \n",
            " 4   stars              8000 non-null   float64\n",
            " 5   success_indicator  8000 non-null   object \n",
            "dtypes: float64(1), int64(1), object(4)\n",
            "memory usage: 375.1+ KB\n"
          ],
          "name": "stdout"
        },
        {
          "output_type": "execute_result",
          "data": {
            "text/plain": [
              "<matplotlib.axes._subplots.AxesSubplot at 0x7ff6271f5b90>"
            ]
          },
          "metadata": {
            "tags": []
          },
          "execution_count": 44
        },
        {
          "output_type": "display_data",
          "data": {
            "image/png": "[encoded data removed]",
            "text/plain": [
              "<Figure size 432x288 with 2 Axes>"
            ]
          },
          "metadata": {
            "tags": [],
            "needs_background": "light"
          }
        }
      ]
    },
    {
      "cell_type": "code",
      "metadata": {
        "id": "bQyFGwnH_H6W"
      },
      "source": [
        "# Drop all rows with missin data\n",
        "df1 = df1.dropna()"
      ],
      "execution_count": 45,
      "outputs": []
    },
    {
      "cell_type": "code",
      "metadata": {
        "colab": {
          "base_uri": "https://localhost:8080/",
          "height": 417
        },
        "id": "u1IggC-y_M-3",
        "outputId": "c40e2b40-c7b1-4c83-fb5e-9638c8a852cf"
      },
      "source": [
        "df1"
      ],
      "execution_count": 46,
      "outputs": [
        {
          "output_type": "execute_result",
          "data": {
            "text/html": [
              "<div>\n",
              "<style scoped>\n",
              "    .dataframe tbody tr th:only-of-type {\n",
              "        vertical-align: middle;\n",
              "    }\n",
              "\n",
              "    .dataframe tbody tr th {\n",
              "        vertical-align: top;\n",
              "    }\n",
              "\n",
              "    .dataframe thead th {\n",
              "        text-align: right;\n",
              "    }\n",
              "</style>\n",
              "<table border=\"1\" class=\"dataframe\">\n",
              "  <thead>\n",
              "    <tr style=\"text-align: right;\">\n",
              "      <th></th>\n",
              "      <th>item_no</th>\n",
              "      <th>category</th>\n",
              "      <th>main_promotion</th>\n",
              "      <th>color</th>\n",
              "      <th>stars</th>\n",
              "      <th>success_indicator</th>\n",
              "    </tr>\n",
              "  </thead>\n",
              "  <tbody>\n",
              "    <tr>\n",
              "      <th>0</th>\n",
              "      <td>739157</td>\n",
              "      <td>Tunic</td>\n",
              "      <td>Catalog</td>\n",
              "      <td>Green</td>\n",
              "      <td>3.1</td>\n",
              "      <td>flop</td>\n",
              "    </tr>\n",
              "    <tr>\n",
              "      <th>1</th>\n",
              "      <td>591846</td>\n",
              "      <td>Hoodie</td>\n",
              "      <td>Category_Highlight</td>\n",
              "      <td>Red</td>\n",
              "      <td>1.5</td>\n",
              "      <td>flop</td>\n",
              "    </tr>\n",
              "    <tr>\n",
              "      <th>2</th>\n",
              "      <td>337574</td>\n",
              "      <td>Sweatshirt</td>\n",
              "      <td>Catalog</td>\n",
              "      <td>Red</td>\n",
              "      <td>4.4</td>\n",
              "      <td>top</td>\n",
              "    </tr>\n",
              "    <tr>\n",
              "      <th>3</th>\n",
              "      <td>401933</td>\n",
              "      <td>Polo-Shirt</td>\n",
              "      <td>Category_Highlight</td>\n",
              "      <td>Blue</td>\n",
              "      <td>3.1</td>\n",
              "      <td>flop</td>\n",
              "    </tr>\n",
              "    <tr>\n",
              "      <th>4</th>\n",
              "      <td>812151</td>\n",
              "      <td>Hoodie</td>\n",
              "      <td>Category_Highlight</td>\n",
              "      <td>Green</td>\n",
              "      <td>4.1</td>\n",
              "      <td>top</td>\n",
              "    </tr>\n",
              "    <tr>\n",
              "      <th>...</th>\n",
              "      <td>...</td>\n",
              "      <td>...</td>\n",
              "      <td>...</td>\n",
              "      <td>...</td>\n",
              "      <td>...</td>\n",
              "      <td>...</td>\n",
              "    </tr>\n",
              "    <tr>\n",
              "      <th>7995</th>\n",
              "      <td>280947</td>\n",
              "      <td>T-Shirt</td>\n",
              "      <td>Catalog</td>\n",
              "      <td>Blue</td>\n",
              "      <td>3.9</td>\n",
              "      <td>flop</td>\n",
              "    </tr>\n",
              "    <tr>\n",
              "      <th>7996</th>\n",
              "      <td>874952</td>\n",
              "      <td>Sweatshirt</td>\n",
              "      <td>Frontpage_Header</td>\n",
              "      <td>Green</td>\n",
              "      <td>3.5</td>\n",
              "      <td>top</td>\n",
              "    </tr>\n",
              "    <tr>\n",
              "      <th>7997</th>\n",
              "      <td>891640</td>\n",
              "      <td>T-Shirt</td>\n",
              "      <td>Category_Highlight</td>\n",
              "      <td>Yellow</td>\n",
              "      <td>4.0</td>\n",
              "      <td>flop</td>\n",
              "    </tr>\n",
              "    <tr>\n",
              "      <th>7998</th>\n",
              "      <td>786448</td>\n",
              "      <td>Blouse</td>\n",
              "      <td>Category_Highlight</td>\n",
              "      <td>Blue</td>\n",
              "      <td>2.6</td>\n",
              "      <td>flop</td>\n",
              "    </tr>\n",
              "    <tr>\n",
              "      <th>7999</th>\n",
              "      <td>847223</td>\n",
              "      <td>Sweatshirt</td>\n",
              "      <td>Display_Ad_Campaign</td>\n",
              "      <td>Blue</td>\n",
              "      <td>3.9</td>\n",
              "      <td>top</td>\n",
              "    </tr>\n",
              "  </tbody>\n",
              "</table>\n",
              "<p>8000 rows × 6 columns</p>\n",
              "</div>"
            ],
            "text/plain": [
              "      item_no    category       main_promotion   color  stars success_indicator\n",
              "0      739157       Tunic              Catalog   Green    3.1              flop\n",
              "1      591846      Hoodie   Category_Highlight     Red    1.5              flop\n",
              "2      337574  Sweatshirt              Catalog     Red    4.4               top\n",
              "3      401933  Polo-Shirt   Category_Highlight    Blue    3.1              flop\n",
              "4      812151      Hoodie   Category_Highlight   Green    4.1               top\n",
              "...       ...         ...                  ...     ...    ...               ...\n",
              "7995   280947     T-Shirt              Catalog    Blue    3.9              flop\n",
              "7996   874952  Sweatshirt     Frontpage_Header   Green    3.5               top\n",
              "7997   891640     T-Shirt   Category_Highlight  Yellow    4.0              flop\n",
              "7998   786448      Blouse   Category_Highlight    Blue    2.6              flop\n",
              "7999   847223  Sweatshirt  Display_Ad_Campaign    Blue    3.9               top\n",
              "\n",
              "[8000 rows x 6 columns]"
            ]
          },
          "metadata": {
            "tags": []
          },
          "execution_count": 46
        }
      ]
    },
    {
      "cell_type": "code",
      "metadata": {
        "colab": {
          "base_uri": "https://localhost:8080/"
        },
        "id": "Ekv9TG11I7Ku",
        "outputId": "03dd8fb4-294a-4e0a-f558-932be49a50f3"
      },
      "source": [
        "df1.isna"
      ],
      "execution_count": 47,
      "outputs": [
        {
          "output_type": "execute_result",
          "data": {
            "text/plain": [
              "<bound method DataFrame.isna of       item_no    category       main_promotion   color  stars success_indicator\n",
              "0      739157       Tunic              Catalog   Green    3.1              flop\n",
              "1      591846      Hoodie   Category_Highlight     Red    1.5              flop\n",
              "2      337574  Sweatshirt              Catalog     Red    4.4               top\n",
              "3      401933  Polo-Shirt   Category_Highlight    Blue    3.1              flop\n",
              "4      812151      Hoodie   Category_Highlight   Green    4.1               top\n",
              "...       ...         ...                  ...     ...    ...               ...\n",
              "7995   280947     T-Shirt              Catalog    Blue    3.9              flop\n",
              "7996   874952  Sweatshirt     Frontpage_Header   Green    3.5               top\n",
              "7997   891640     T-Shirt   Category_Highlight  Yellow    4.0              flop\n",
              "7998   786448      Blouse   Category_Highlight    Blue    2.6              flop\n",
              "7999   847223  Sweatshirt  Display_Ad_Campaign    Blue    3.9               top\n",
              "\n",
              "[8000 rows x 6 columns]>"
            ]
          },
          "metadata": {
            "tags": []
          },
          "execution_count": 47
        }
      ]
    },
    {
      "cell_type": "code",
      "metadata": {
        "colab": {
          "base_uri": "https://localhost:8080/"
        },
        "id": "5sBE4Ggy_irr",
        "outputId": "76247d90-e375-4cc2-e79d-0511c896acb4"
      },
      "source": [
        "df1.columns"
      ],
      "execution_count": 48,
      "outputs": [
        {
          "output_type": "execute_result",
          "data": {
            "text/plain": [
              "Index(['item_no', 'category', 'main_promotion', 'color', 'stars',\n",
              "       'success_indicator'],\n",
              "      dtype='object')"
            ]
          },
          "metadata": {
            "tags": []
          },
          "execution_count": 48
        }
      ]
    },
    {
      "cell_type": "code",
      "metadata": {
        "id": "hNODap4iAy_L"
      },
      "source": [
        "# Seperate the dataframe into X and y data\n",
        "X = df1[['category', 'main_promotion', 'color', 'stars']].values\n",
        "y = df1['success_indicator'].values\n",
        "\n",
        "# Delete the Survived column from X\n",
        "#X = np.delete(X,1,axis=1)"
      ],
      "execution_count": 49,
      "outputs": []
    },
    {
      "cell_type": "code",
      "metadata": {
        "id": "gWEkS8DdA67z"
      },
      "source": [
        "# Split the dataset into 70% Training and 30% Test\n",
        "from sklearn.model_selection import train_test_split\n",
        "X_train, X_test, y_train, y_test = train_test_split(X,y,test_size=0.3,random_state=0)"
      ],
      "execution_count": 50,
      "outputs": []
    },
    {
      "cell_type": "code",
      "metadata": {
        "id": "mawA4xyVnG1_"
      },
      "source": [
        "from sklearn.preprocessing import OneHotEncoder\n",
        "enc = OneHotEncoder(handle_unknown='ignore')\n",
        "enc.fit(X_train)\n",
        "X_train = enc.transform(X_train).toarray()\n"
      ],
      "execution_count": 51,
      "outputs": []
    },
    {
      "cell_type": "code",
      "metadata": {
        "id": "QWm6osmBqEdA"
      },
      "source": [
        "X_train = np.array(X_train.nonzero())\n",
        "X_train = X_train.reshape(1,-1).transpose()"
      ],
      "execution_count": 52,
      "outputs": []
    },
    {
      "cell_type": "code",
      "metadata": {
        "colab": {
          "base_uri": "https://localhost:8080/"
        },
        "id": "SUGLZ03q30QU",
        "outputId": "29e64cb2-5204-420b-dd89-01edc980375e"
      },
      "source": [
        "X_train.shape"
      ],
      "execution_count": 53,
      "outputs": [
        {
          "output_type": "execute_result",
          "data": {
            "text/plain": [
              "(44800, 1)"
            ]
          },
          "metadata": {
            "tags": []
          },
          "execution_count": 53
        }
      ]
    },
    {
      "cell_type": "code",
      "metadata": {
        "id": "gW6Qkf8spEcu"
      },
      "source": [
        "y_train = y_train.reshape(1,-1)\n",
        "enc.fit(y_train)\n",
        "y_train = enc.transform(y_train).toarray()"
      ],
      "execution_count": 54,
      "outputs": []
    },
    {
      "cell_type": "code",
      "metadata": {
        "colab": {
          "base_uri": "https://localhost:8080/"
        },
        "id": "NteOHVKv3dn0",
        "outputId": "6346abc4-6bfe-48d2-b779-04e78c4b3d2b"
      },
      "source": [
        "#len(y_train)\n",
        "y_train.shape"
      ],
      "execution_count": 55,
      "outputs": [
        {
          "output_type": "execute_result",
          "data": {
            "text/plain": [
              "(1, 5600)"
            ]
          },
          "metadata": {
            "tags": []
          },
          "execution_count": 55
        }
      ]
    },
    {
      "cell_type": "code",
      "metadata": {
        "id": "26oLhzX_xJGU"
      },
      "source": [
        "y_train = y_train.transpose()"
      ],
      "execution_count": 56,
      "outputs": []
    },
    {
      "cell_type": "code",
      "metadata": {
        "colab": {
          "base_uri": "https://localhost:8080/"
        },
        "id": "wadHCTbizEUy",
        "outputId": "dcb8ba1b-5269-4b9f-ab0a-120fc9d8efcd"
      },
      "source": [
        "X_test = X_test.reshape(1,-1)\n",
        "enc.fit(X_test)\n",
        "#y_train = enc.transform(y_train).toarray()"
      ],
      "execution_count": 57,
      "outputs": [
        {
          "output_type": "execute_result",
          "data": {
            "text/plain": [
              "OneHotEncoder(categories='auto', drop=None, dtype=<class 'numpy.float64'>,\n",
              "              handle_unknown='ignore', sparse=True)"
            ]
          },
          "metadata": {
            "tags": []
          },
          "execution_count": 57
        }
      ]
    },
    {
      "cell_type": "code",
      "metadata": {
        "id": "HjmSA65pzNHE"
      },
      "source": [
        "X_test = enc.transform(X_test).toarray()"
      ],
      "execution_count": 58,
      "outputs": []
    },
    {
      "cell_type": "code",
      "metadata": {
        "id": "iF7SjPdHzgKq"
      },
      "source": [
        "X_test = X_test.transpose()"
      ],
      "execution_count": 59,
      "outputs": []
    },
    {
      "cell_type": "code",
      "metadata": {
        "id": "wzrm5yA20OBt"
      },
      "source": [
        "y_test = y_test.reshape(1,-1)\n",
        "enc.fit(y_test)\n",
        "y_test = enc.transform(y_test).toarray()"
      ],
      "execution_count": 60,
      "outputs": []
    },
    {
      "cell_type": "code",
      "metadata": {
        "id": "VqFrenmS0cLQ"
      },
      "source": [
        "y_test = y_test.transpose()"
      ],
      "execution_count": 61,
      "outputs": []
    },
    {
      "cell_type": "code",
      "metadata": {
        "colab": {
          "base_uri": "https://localhost:8080/"
        },
        "id": "qUMWSGbInFbi",
        "outputId": "5aeb146f-2a8d-4265-f0f6-63e03f6b5bc3"
      },
      "source": [
        "from sklearn.ensemble import RandomForestClassifier\n",
        "\n",
        "#Create a Gaussian Classifier\n",
        "clf=RandomForestClassifier(n_estimators=100)\n",
        "\n",
        "#Train the model using the training sets y_pred=clf.predict(X_test)\n",
        "if len(X_train) > len(y_train):\n",
        "  result=np.zeros(X_train.shape)\n",
        "  result[:y_train.shape[0]] = y_train\n",
        "  clf.fit(X_train,result)\n",
        "else:\n",
        "  result=np.zeros(y_train.shape)\n",
        "  result[:X_train.shape[0]] = X_train\n",
        "  clf.fit(result,y_train)\n",
        "\n",
        "y_pred=clf.predict(X_test)"
      ],
      "execution_count": 62,
      "outputs": [
        {
          "output_type": "stream",
          "text": [
            "/usr/local/lib/python3.7/dist-packages/ipykernel_launcher.py:10: DataConversionWarning: A column-vector y was passed when a 1d array was expected. Please change the shape of y to (n_samples,), for example using ravel().\n",
            "  # Remove the CWD from sys.path while we load stuff.\n"
          ],
          "name": "stderr"
        }
      ]
    },
    {
      "cell_type": "code",
      "metadata": {
        "id": "bPcKdJ9e1bRY"
      },
      "source": [
        "y_pred = y_pred.reshape(len(y_pred),1)"
      ],
      "execution_count": 63,
      "outputs": []
    },
    {
      "cell_type": "code",
      "metadata": {
        "colab": {
          "base_uri": "https://localhost:8080/"
        },
        "id": "Q9QZdoqg0JyV",
        "outputId": "8045c966-734d-4e5d-e46f-d866d79faee5"
      },
      "source": [
        "#Import scikit-learn metrics module for accuracy calculation\n",
        "from sklearn import metrics\n",
        "# Model Accuracy, how often is the classifier correct?\n",
        "if len(y_test) > len(y_pred):\n",
        "  result=np.zeros(y_test.shape)\n",
        "  result[:y_pred.shape[0]] = y_pred\n",
        "  print(\"Accuracy:\",metrics.accuracy_score(y_test, result))\n",
        "else:\n",
        "  result=np.zeros(y_pred.shape)\n",
        "  result[:y_test.shape[0]] = y_test\n",
        "  print(\"Accuracy:\",metrics.accuracy_score(result, y_pred))"
      ],
      "execution_count": 64,
      "outputs": [
        {
          "output_type": "stream",
          "text": [
            "Accuracy: 0.75\n"
          ],
          "name": "stdout"
        }
      ]
    }
  ]
}